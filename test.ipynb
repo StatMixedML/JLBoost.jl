{
 "cells": [
  {
   "cell_type": "code",
   "execution_count": null,
   "metadata": {},
   "outputs": [],
   "source": [
    "#using Rebugger\n",
    "include(\"jlboosttree.jl\")\n",
    "include(\"jlboost.jl\")\n",
    "\n",
    "using DataFrames, RCall, StatsBase, CSV,ForwardDiff\n",
    "using Plots\n",
    "gr()\n",
    "\n",
    "# set up global parameters\n",
    "lambda = 1\n",
    "gamma  = 3\n",
    "\n",
    "@time df = CSV.read(joinpath(pwd(),\"data\",\"cs-training.csv\"))\n",
    "rename!(df,Symbol(\"NumberOfTime30-59DaysPastDueNotWorse\") => :NumberOfTime30_59DaysPastDueNotWorse,Symbol(\"NumberOfTime60-89DaysPastDueNotWorse\") => :NumberOfTime60_89DaysPastDueNotWorse);\n",
    "\n",
    "na2n(x) = x == \"NA\" ? Int32(0) : parse(Int32, x)\n",
    "na2n(x::Integer) = x\n",
    "df[:NumberOfDependents] = na2n.(df[:NumberOfDependents]);\n",
    "df[:MonthlyIncome] = na2n.(df[:MonthlyIncome]);\n",
    "\n",
    "[typeof(c[2]) for c in eachcol(df)]\n",
    "\n",
    "\n",
    "# setup the initial weights\n",
    "df[:prev_w] = 0.0;\n",
    "\n",
    "# set a feature to split on\n",
    "target = :SeriousDlqin2yrs\n",
    "prev_w = :prev_w\n",
    "\n",
    "features = names(df)[3:end-1][1:2]#[[1:4;6:9]]\n",
    "#features = [:RevolvingUtilizationOfUnsecuredLines,:NumberRealEstateLoansOrLines]\n",
    "#features = [:NumberRealEstateLoansOrLines]\n",
    "#features = [:MonthlyIncome]\n",
    "#features = features[10:10]\n",
    "\n",
    "# function oklah(df, target, feature1; lambda = lambda, gamma = gamma, maxdepth = maxdepth)\n",
    "#      booster1 = xgboost(df, target, feature1; lambda = lambda, gamma = gamma, maxdepth = maxdepth)\n",
    "#      scoretree(df, booster1, :new_weight);\n",
    "#      (gini2, cudata) = gini(-df[:new_weight], df[target]; plotauc = true);\n",
    "#      gini2\n",
    "# end\n",
    "#\n",
    "# @time [oklah(df, target, [feature1]; lambda = lambda, gamma = gamma, maxdepth = 2) for feature1 in features]\n",
    "#\n",
    "# @time oklah(df, target, features[1:1]; lambda = lambda, gamma = gamma)\n",
    "# @code_warntype oklah(df, target, features[1:1]; lambda = lambda, gamma = gamma)\n",
    "\n",
    "@time booster1 = xgboost(df, target, features; lambda = lambda, gamma = gamma)\n",
    "delete!(df,:new_weight)\n",
    "df[:new_weight] = 0.0\n",
    "@time scoretree(df, booster1, :new_weight);\n",
    "@time (gini2, cudata) = gini(-df[:new_weight], df[target]; plotauc = true);\n",
    "gini2"
   ]
  },
  {
   "cell_type": "code",
   "execution_count": null,
   "metadata": {},
   "outputs": [],
   "source": [
    "df1 = by(df, :new_weight, df1->DataFrame(d=sum(df1[target]), n=size(df1)[1]))\n",
    "df1[:dr] = df1[:d]./df1[:n];\n",
    "df1[:pd] = softmax.(df1[:new_weight])\n",
    "sort(df1,:new_weight)\n",
    "\n",
    "sort(by(df,:new_weight, df1->(minimum(df1[:age]),maximum(df1[:age]))), :new_weight)\n",
    "\n",
    "plot(vcat(0,cudata[1]),vcat(0,cudata[2]))\n",
    "plot!([0,1],[0,1])\n",
    "\n",
    "@time booster2 = xgboost(df, target, features; prev_w = :new_weight, lambda = lambda, gamma = gamma)\n",
    "@time scoretree(df, booster2, :new_weight2);\n",
    "(gini2, cudata) = gini(-(df[:new_weight2].+df[:new_weight]), df[target]; plotauc = true);\n",
    "gini2\n",
    "plot(vcat(0,cudata[1]),vcat(0,cudata[2]))\n",
    "plot!([0,1],[0,1])\n",
    "df[:new_weight_all] = df[:new_weight2] .+ df[:new_weight]\n",
    "\n",
    "@time booster3 = xgboost(df, target, features; prev_w = :new_weight_all, lambda = 1, gamma = gamma)\n",
    "@time scoretree(df, booster3, :new_weight3);\n",
    "(gini3, cudata) = gini(-(df[:new_weight3].+df[:new_weight_all]), df[target]; plotauc = true);\n",
    "gini3\n",
    "plot(vcat(0,cudata[1]),vcat(0,cudata[2]))\n",
    "plot!([0,1],[0,1])\n",
    "\n",
    "@time booster4 = xgboost(df, target, features; prev_w = :new_weight_all, lambda = 1, gamma = gamma)\n",
    "@time scoretree(df, booster4, :new_weight4);\n",
    "(gini4, cudata) = gini(-(df[:new_weight4].+df[:new_weight_all]), df[target]; plotauc = true);\n",
    "print(gini4)\n",
    "plot(vcat(0,cudata[1]),vcat(0,cudata[2]))\n",
    "plot!([0,1],[0,1])\n",
    "\n",
    "df[:new_weight_all] .= df[:new_weight_all] .+ df[:new_weight4]\n",
    "@time booster5 = xgboost(df, target, features; prev_w = :new_weight_all, lambda = 1, gamma = gamma)\n",
    "@time scoretree(df, booster5, :new_weight5);\n",
    "(gini4, cudata) = gini(-(df[:new_weight5].+df[:new_weight_all]), df[target]; plotauc = true);\n",
    "print(gini4)\n",
    "plot(vcat(0,cudata[1]),vcat(0,cudata[2]))\n",
    "plot!([0,1],[0,1])\n",
    "\n",
    "plot([gini2, gini3, gini4])"
   ]
  },
  {
   "cell_type": "code",
   "execution_count": 32,
   "metadata": {},
   "outputs": [
    {
     "data": {
      "text/plain": [
       "Plots.GRBackend()"
      ]
     },
     "execution_count": 32,
     "metadata": {},
     "output_type": "execute_result"
    }
   ],
   "source": [
    "using DataFrames, RCall, ForwardDiff, StatsBase, CSV\n",
    "using Plots\n",
    "gr()"
   ]
  },
  {
   "cell_type": "code",
   "execution_count": 33,
   "metadata": {},
   "outputs": [
    {
     "name": "stderr",
     "output_type": "stream",
     "text": [
      "WARNING: replacing module JLBoostTrees.\n"
     ]
    },
    {
     "data": {
      "text/plain": [
       "gini (generic function with 1 method)"
      ]
     },
     "execution_count": 33,
     "metadata": {},
     "output_type": "execute_result"
    }
   ],
   "source": [
    "include(joinpath(pwd(),\"JLBoostTree.jl\"))\n",
    "include(joinpath(pwd(),\"jlboost.jl\"))"
   ]
  },
  {
   "cell_type": "code",
   "execution_count": 34,
   "metadata": {},
   "outputs": [
    {
     "data": {
      "text/plain": [
       "3-element Array{String,1}:\n",
       " \"setosa\"    \n",
       " \"versicolor\"\n",
       " \"virginica\" "
      ]
     },
     "execution_count": 34,
     "metadata": {},
     "output_type": "execute_result"
    }
   ],
   "source": [
    "R\"\"\"\n",
    "iris1 = iris\n",
    "\"\"\"\n",
    "@rget iris1\n",
    "iris1;\n",
    "unique(iris1[:Species])"
   ]
  },
  {
   "cell_type": "code",
   "execution_count": 35,
   "metadata": {},
   "outputs": [],
   "source": [
    "df = iris1;\n",
    "df[:issetosa] = t2one.(df[:Species] .== \"virginica\");"
   ]
  },
  {
   "cell_type": "code",
   "execution_count": 36,
   "metadata": {},
   "outputs": [
    {
     "data": {
      "text/plain": [
       "3"
      ]
     },
     "execution_count": 36,
     "metadata": {},
     "output_type": "execute_result"
    }
   ],
   "source": [
    "# set up global parameters\n",
    "lambda = 1\n",
    "gamma  = 3"
   ]
  },
  {
   "cell_type": "code",
   "execution_count": 37,
   "metadata": {},
   "outputs": [
    {
     "name": "stdout",
     "output_type": "stream",
     "text": [
      "  0.601172 seconds (4.80 M allocations: 99.486 MiB, 4.37% gc time)\n"
     ]
    }
   ],
   "source": [
    "@time df = CSV.read(joinpath(pwd(),\"data\",\"cs-training.csv\"))\n",
    "rename!(df,  \n",
    "    Symbol(\"NumberOfTime30-59DaysPastDueNotWorse\") => :NumberOfTime30_59DaysPastDueNotWorse,\n",
    "    Symbol(\"NumberOfTime60-89DaysPastDueNotWorse\") => :NumberOfTime60_89DaysPastDueNotWorse\n",
    ");"
   ]
  },
  {
   "cell_type": "code",
   "execution_count": 20,
   "metadata": {},
   "outputs": [],
   "source": [
    "#countmap(df[:SeriousDlqin2yrs])\n",
    "#([countmap(ismissing.(c[2])) for c in eachcol(df)], [typeof(c[2]) for c in eachcol(df)])"
   ]
  },
  {
   "cell_type": "code",
   "execution_count": 38,
   "metadata": {},
   "outputs": [],
   "source": [
    "#countmap(df[:NumberOfDependents])\n",
    "na2n(x) = x == \"NA\" ? 0 : parse(Int8, x)\n",
    "df[:NumberOfDependents] = na2n.(df[:NumberOfDependents]);"
   ]
  },
  {
   "cell_type": "code",
   "execution_count": 39,
   "metadata": {},
   "outputs": [],
   "source": [
    "# setup the initial weights\n",
    "df[:prev_w] = 0.0\n",
    "df;"
   ]
  },
  {
   "cell_type": "code",
   "execution_count": 40,
   "metadata": {},
   "outputs": [
    {
     "data": {
      "text/plain": [
       "4-element Array{Symbol,1}:\n",
       " :Sepal_Length\n",
       " :Sepal_Width \n",
       " :Petal_Length\n",
       " :Petal_Width "
      ]
     },
     "execution_count": 40,
     "metadata": {},
     "output_type": "execute_result"
    }
   ],
   "source": [
    "# set a feature to split on\n",
    "target = :issetosa\n",
    "feature = :Petal_Length\n",
    "prev_w = :prev_w\n",
    "\n",
    "features = [:Sepal_Length, :Sepal_Width, :Petal_Length, :Petal_Width]"
   ]
  },
  {
   "cell_type": "code",
   "execution_count": 62,
   "metadata": {},
   "outputs": [
    {
     "data": {
      "text/plain": [
       "10-element Array{Symbol,1}:\n",
       " :RevolvingUtilizationOfUnsecuredLines\n",
       " :age                                 \n",
       " :NumberOfTime30_59DaysPastDueNotWorse\n",
       " :DebtRatio                           \n",
       " :MonthlyIncome                       \n",
       " :NumberOfOpenCreditLinesAndLoans     \n",
       " :NumberOfTimes90DaysLate             \n",
       " :NumberRealEstateLoansOrLines        \n",
       " :NumberOfTime60_89DaysPastDueNotWorse\n",
       " :NumberOfDependents                  "
      ]
     },
     "execution_count": 62,
     "metadata": {},
     "output_type": "execute_result"
    }
   ],
   "source": [
    "# set a feature to split on\n",
    "target = :SeriousDlqin2yrs\n",
    "prev_w = :prev_w\n",
    "\n",
    "features = names(df)[3:end-1][1:10]#[[1:4;6:9]]\n",
    "#features = [:RevolvingUtilizationOfUnsecuredLines,:NumberRealEstateLoansOrLines]\n",
    "#features = [:NumberRealEstateLoansOrLines]"
   ]
  },
  {
   "cell_type": "code",
   "execution_count": 63,
   "metadata": {
    "hide_input": false
   },
   "outputs": [
    {
     "name": "stdout",
     "output_type": "stream",
     "text": [
      "116.542328 seconds (362.53 M allocations: 23.127 GiB, 16.64% gc time)\n"
     ]
    },
    {
     "data": {
      "text/plain": [
       "10-element Array{Float64,1}:\n",
       "  0.5360397812354545  \n",
       "  0.2492784646585542  \n",
       "  0.35363891415652615 \n",
       "  0.18346321630427576 \n",
       " -0.012080907640135585\n",
       "  0.13098287585610735 \n",
       "  0.2932391635082119  \n",
       "  0.11720025334131279 \n",
       "  0.22698192632488845 \n",
       " -0.3886622441651705  "
      ]
     },
     "execution_count": 63,
     "metadata": {},
     "output_type": "execute_result"
    }
   ],
   "source": [
    "function oklah(df, target, feature1; lambda = lambda, gamma = gamma)\n",
    "     booster1 = xgboost(df, target, feature1; lambda = lambda, gamma = gamma)\n",
    "     scoretree(df, booster1, :new_weight);\n",
    "     (gini2, cudata) = gini(-df[:new_weight], df[target]; plotauc = true);\n",
    "     gini2\n",
    "end\n",
    "\n",
    "@time [oklah(df, target, [feature1]; lambda = lambda, gamma = gamma) for feature1 in features]"
   ]
  },
  {
   "cell_type": "code",
   "execution_count": 46,
   "metadata": {
    "hide_input": false
   },
   "outputs": [
    {
     "data": {
      "text/html": [
       "<table class=\"data-frame\"><thead><tr><th></th><th>id</th><th>SeriousDlqin2yrs</th><th>RevolvingUtilizationOfUnsecuredLines</th><th>age</th><th>NumberOfTime30_59DaysPastDueNotWorse</th><th>DebtRatio</th><th>MonthlyIncome</th><th>NumberOfOpenCreditLinesAndLoans</th><th>NumberOfTimes90DaysLate</th><th>NumberRealEstateLoansOrLines</th><th>NumberOfTime60_89DaysPastDueNotWorse</th><th>NumberOfDependents</th><th>prev_w</th><th>new_weight</th></tr></thead><tbody><tr><th>1</th><td>1</td><td>1</td><td>0.766127</td><td>45</td><td>2</td><td>0.802982</td><td>9120</td><td>13</td><td>0</td><td>6</td><td>0</td><td>2</td><td>0.0</td><td>-1.78059</td></tr><tr><th>2</th><td>2</td><td>0</td><td>0.957151</td><td>40</td><td>0</td><td>0.121876</td><td>2600</td><td>4</td><td>0</td><td>0</td><td>0</td><td>1</td><td>0.0</td><td>-2.19701</td></tr><tr><th>3</th><td>3</td><td>0</td><td>0.65818</td><td>38</td><td>1</td><td>0.0851134</td><td>3042</td><td>2</td><td>1</td><td>0</td><td>0</td><td>0</td><td>0.0</td><td>-2.19701</td></tr><tr><th>4</th><td>4</td><td>0</td><td>0.23381</td><td>30</td><td>0</td><td>0.0360497</td><td>3300</td><td>5</td><td>0</td><td>0</td><td>0</td><td>0</td><td>0.0</td><td>-2.19701</td></tr><tr><th>5</th><td>5</td><td>0</td><td>0.907239</td><td>49</td><td>1</td><td>0.0249257</td><td>63588</td><td>7</td><td>0</td><td>1</td><td>0</td><td>0</td><td>0.0</td><td>-2.63892</td></tr><tr><th>6</th><td>6</td><td>0</td><td>0.213179</td><td>74</td><td>0</td><td>0.375607</td><td>3500</td><td>3</td><td>0</td><td>1</td><td>0</td><td>1</td><td>0.0</td><td>-2.40477</td></tr><tr><th>7</th><td>7</td><td>0</td><td>0.305682</td><td>57</td><td>0</td><td>5710.0</td><td>NA</td><td>8</td><td>0</td><td>3</td><td>0</td><td>0</td><td>0.0</td><td>-1.78059</td></tr><tr><th>8</th><td>8</td><td>0</td><td>0.754464</td><td>39</td><td>0</td><td>0.20994</td><td>3500</td><td>8</td><td>0</td><td>0</td><td>0</td><td>0</td><td>0.0</td><td>-2.40477</td></tr><tr><th>9</th><td>9</td><td>0</td><td>0.116951</td><td>27</td><td>0</td><td>46.0</td><td>NA</td><td>2</td><td>0</td><td>0</td><td>0</td><td>0</td><td>0.0</td><td>-1.78059</td></tr><tr><th>10</th><td>10</td><td>0</td><td>0.189169</td><td>57</td><td>0</td><td>0.606291</td><td>23684</td><td>9</td><td>0</td><td>4</td><td>0</td><td>2</td><td>0.0</td><td>-2.33029</td></tr><tr><th>11</th><td>11</td><td>0</td><td>0.644226</td><td>30</td><td>0</td><td>0.309476</td><td>2500</td><td>5</td><td>0</td><td>0</td><td>0</td><td>0</td><td>0.0</td><td>-2.33029</td></tr><tr><th>12</th><td>12</td><td>0</td><td>0.0187981</td><td>51</td><td>0</td><td>0.531529</td><td>6501</td><td>7</td><td>0</td><td>2</td><td>0</td><td>2</td><td>0.0</td><td>-2.63892</td></tr><tr><th>13</th><td>13</td><td>0</td><td>0.0103519</td><td>46</td><td>0</td><td>0.298354</td><td>12454</td><td>13</td><td>0</td><td>2</td><td>0</td><td>2</td><td>0.0</td><td>-2.85736</td></tr><tr><th>14</th><td>14</td><td>1</td><td>0.964673</td><td>40</td><td>3</td><td>0.382965</td><td>13700</td><td>9</td><td>3</td><td>1</td><td>1</td><td>2</td><td>0.0</td><td>-2.85736</td></tr><tr><th>15</th><td>15</td><td>0</td><td>0.0196566</td><td>76</td><td>0</td><td>477.0</td><td>0</td><td>6</td><td>0</td><td>1</td><td>0</td><td>0</td><td>0.0</td><td>-3.24922</td></tr><tr><th>16</th><td>16</td><td>0</td><td>0.548458</td><td>64</td><td>0</td><td>0.209892</td><td>11362</td><td>7</td><td>0</td><td>1</td><td>0</td><td>2</td><td>0.0</td><td>-2.85736</td></tr><tr><th>17</th><td>17</td><td>0</td><td>0.0610861</td><td>78</td><td>0</td><td>2058.0</td><td>NA</td><td>10</td><td>0</td><td>2</td><td>0</td><td>0</td><td>0.0</td><td>-1.78059</td></tr><tr><th>18</th><td>18</td><td>0</td><td>0.166284</td><td>53</td><td>0</td><td>0.188274</td><td>8800</td><td>7</td><td>0</td><td>0</td><td>0</td><td>0</td><td>0.0</td><td>-1.78059</td></tr><tr><th>19</th><td>19</td><td>0</td><td>0.221813</td><td>43</td><td>0</td><td>0.527888</td><td>3280</td><td>7</td><td>0</td><td>1</td><td>0</td><td>2</td><td>0.0</td><td>-2.19701</td></tr><tr><th>20</th><td>20</td><td>0</td><td>0.602794</td><td>25</td><td>0</td><td>0.0658683</td><td>333</td><td>2</td><td>0</td><td>0</td><td>0</td><td>0</td><td>0.0</td><td>-2.19701</td></tr><tr><th>21</th><td>21</td><td>0</td><td>0.200923</td><td>43</td><td>0</td><td>0.430046</td><td>12300</td><td>10</td><td>0</td><td>2</td><td>0</td><td>0</td><td>0.0</td><td>-2.85736</td></tr><tr><th>22</th><td>22</td><td>1</td><td>0.0256557</td><td>38</td><td>0</td><td>0.475841</td><td>3000</td><td>7</td><td>0</td><td>1</td><td>0</td><td>2</td><td>0.0</td><td>-2.19701</td></tr><tr><th>23</th><td>23</td><td>0</td><td>1.0</td><td>39</td><td>0</td><td>0.241104</td><td>2500</td><td>4</td><td>0</td><td>0</td><td>0</td><td>0</td><td>0.0</td><td>-2.33029</td></tr><tr><th>24</th><td>24</td><td>0</td><td>0.0754266</td><td>32</td><td>0</td><td>0.0855122</td><td>7916</td><td>6</td><td>0</td><td>0</td><td>0</td><td>0</td><td>0.0</td><td>-1.78059</td></tr><tr><th>25</th><td>25</td><td>0</td><td>0.0465603</td><td>58</td><td>0</td><td>0.241622</td><td>2416</td><td>9</td><td>0</td><td>1</td><td>0</td><td>0</td><td>0.0</td><td>-2.33029</td></tr><tr><th>26</th><td>26</td><td>1</td><td>0.392248</td><td>50</td><td>0</td><td>1.59525</td><td>4676</td><td>14</td><td>0</td><td>3</td><td>0</td><td>1</td><td>0.0</td><td>-2.40477</td></tr><tr><th>27</th><td>27</td><td>0</td><td>0.0524361</td><td>58</td><td>0</td><td>0.0976722</td><td>8333</td><td>22</td><td>0</td><td>1</td><td>0</td><td>0</td><td>0.0</td><td>-1.78059</td></tr><tr><th>28</th><td>28</td><td>0</td><td>0.0344215</td><td>69</td><td>0</td><td>0.042383</td><td>2500</td><td>17</td><td>0</td><td>0</td><td>0</td><td>1</td><td>0.0</td><td>-2.33029</td></tr><tr><th>29</th><td>29</td><td>0</td><td>0.452516</td><td>24</td><td>0</td><td>0.0117612</td><td>3400</td><td>1</td><td>0</td><td>0</td><td>0</td><td>0</td><td>0.0</td><td>-2.40477</td></tr><tr><th>30</th><td>30</td><td>0</td><td>0.392995</td><td>58</td><td>2</td><td>0.436103</td><td>5500</td><td>15</td><td>0</td><td>1</td><td>0</td><td>0</td><td>0.0</td><td>-2.63892</td></tr><tr><th>&vellip;</th><td>&vellip;</td><td>&vellip;</td><td>&vellip;</td><td>&vellip;</td><td>&vellip;</td><td>&vellip;</td><td>&vellip;</td><td>&vellip;</td><td>&vellip;</td><td>&vellip;</td><td>&vellip;</td><td>&vellip;</td><td>&vellip;</td><td>&vellip;</td></tr></tbody></table>"
      ],
      "text/plain": [
       "150000×14 DataFrame. Omitted printing of 11 columns\n",
       "│ Row    │ id     │ SeriousDlqin2yrs │ RevolvingUtilizationOfUnsecuredLines │\n",
       "├────────┼────────┼──────────────────┼──────────────────────────────────────┤\n",
       "│ 1      │ 1      │ 1                │ 0.766127                             │\n",
       "│ 2      │ 2      │ 0                │ 0.957151                             │\n",
       "│ 3      │ 3      │ 0                │ 0.65818                              │\n",
       "│ 4      │ 4      │ 0                │ 0.23381                              │\n",
       "│ 5      │ 5      │ 0                │ 0.907239                             │\n",
       "│ 6      │ 6      │ 0                │ 0.213179                             │\n",
       "│ 7      │ 7      │ 0                │ 0.305682                             │\n",
       "│ 8      │ 8      │ 0                │ 0.754464                             │\n",
       "│ 9      │ 9      │ 0                │ 0.116951                             │\n",
       "│ 10     │ 10     │ 0                │ 0.189169                             │\n",
       "│ 11     │ 11     │ 0                │ 0.644226                             │\n",
       "⋮\n",
       "│ 149989 │ 149989 │ 0                │ 0.902051                             │\n",
       "│ 149990 │ 149990 │ 0                │ 0.0133557                            │\n",
       "│ 149991 │ 149991 │ 0                │ 0.0555182                            │\n",
       "│ 149992 │ 149992 │ 0                │ 0.104112                             │\n",
       "│ 149993 │ 149993 │ 0                │ 0.871976                             │\n",
       "│ 149994 │ 149994 │ 0                │ 1.0                                  │\n",
       "│ 149995 │ 149995 │ 0                │ 0.385742                             │\n",
       "│ 149996 │ 149996 │ 0                │ 0.0406739                            │\n",
       "│ 149997 │ 149997 │ 0                │ 0.299745                             │\n",
       "│ 149998 │ 149998 │ 0                │ 0.246044                             │\n",
       "│ 149999 │ 149999 │ 0                │ 0.0                                  │\n",
       "│ 150000 │ 150000 │ 0                │ 0.850283                             │"
      ]
     },
     "execution_count": 46,
     "metadata": {},
     "output_type": "execute_result"
    }
   ],
   "source": [
    "features = [:MonthlyIncome]"
   ]
  },
  {
   "cell_type": "code",
   "execution_count": 43,
   "metadata": {
    "hide_input": false,
    "scrolled": true
   },
   "outputs": [
    {
     "name": "stdout",
     "output_type": "stream",
     "text": [
      " 11.967519 seconds (33.21 M allocations: 1.807 GiB, 9.51% gc time)\n"
     ]
    },
    {
     "data": {
      "text/plain": []
     },
     "execution_count": 43,
     "metadata": {},
     "output_type": "execute_result"
    },
    {
     "name": "stdout",
     "output_type": "stream",
     "text": [
      " MonthlyIncome, weight = 0.0\n",
      "   -- MonthlyIncome <= 6643\n",
      "     ---- MonthlyIncome, weight = -1.7037936913895992\n",
      "     -- MonthlyIncome <= 13922\n",
      "       ---- MonthlyIncome, weight = -0.812687652813303\n",
      "       -- MonthlyIncome <= 10662\n",
      "         ---- MonthlyIncome, weight = -0.5023096728953607\n",
      "         -- MonthlyIncome <= 10350\n",
      "           ---- MonthlyIncome, weight = -0.045799485176623446\n",
      "           -- MonthlyIncome <= 100\n",
      "             ---- weight = -0.1846246484770146\n",
      "           -- MonthlyIncome > 100\n",
      "             ---- MonthlyIncome, weight = 0.13717916045893921\n",
      "             -- MonthlyIncome <= 1000\n",
      "               ---- weight = 0.5000079825999485\n",
      "             -- MonthlyIncome > 1000\n",
      "               ---- weight = -0.08056598276351708\n",
      "         -- MonthlyIncome > 10350\n",
      "           ---- weight = -0.41813704433272764\n",
      "       -- MonthlyIncome > 10662\n",
      "         ---- MonthlyIncome, weight = -0.2983387462339021\n",
      "         -- MonthlyIncome <= 10668\n",
      "           ---- weight = 0.9211228764408331\n",
      "         -- MonthlyIncome > 10668\n",
      "           ---- MonthlyIncome, weight = -0.0545929996742995\n",
      "           -- MonthlyIncome <= 10778\n",
      "             ---- weight = -0.4455651033068353\n",
      "           -- MonthlyIncome > 10778\n",
      "             ---- weight = 0.012052935301932894\n",
      "     -- MonthlyIncome > 13922\n",
      "       ---- MonthlyIncome, weight = -0.5688888954941269\n",
      "       -- MonthlyIncome <= 4833\n",
      "         ---- MonthlyIncome, weight = -0.09635813980036625\n",
      "         -- MonthlyIncome <= 20975\n",
      "           ---- MonthlyIncome, weight = -0.1275019261242993\n",
      "           -- MonthlyIncome <= 2000\n",
      "             ---- MonthlyIncome, weight = 0.015301755317661274\n",
      "             -- MonthlyIncome <= 16676\n",
      "               ---- weight = -0.0952316959118669\n",
      "             -- MonthlyIncome > 16676\n",
      "               ---- weight = 0.10292494392115847\n",
      "           -- MonthlyIncome > 2000\n",
      "             ---- weight = -0.22386897911611572\n",
      "         -- MonthlyIncome > 20975\n",
      "           ---- MonthlyIncome, weight = 0.02997828169823395\n",
      "           -- MonthlyIncome <= 3332\n",
      "             ---- MonthlyIncome, weight = 0.09497931820902512\n",
      "             -- MonthlyIncome <= 2557\n",
      "               ---- weight = -0.08620896186241382\n",
      "             -- MonthlyIncome > 2557\n",
      "               ---- weight = 0.04707209393763467\n",
      "           -- MonthlyIncome > 3332\n",
      "             ---- MonthlyIncome, weight = -0.07189509512274866\n",
      "             -- MonthlyIncome <= 3345\n",
      "               ---- weight = -0.3159157094938329\n",
      "             -- MonthlyIncome > 3345\n",
      "               ---- weight = 0.00619026968635751\n",
      "       -- MonthlyIncome > 4833\n",
      "         ---- MonthlyIncome, weight = -0.29765884240234197\n",
      "         -- MonthlyIncome <= 4895\n",
      "           ---- weight = -0.6358931772459118\n",
      "         -- MonthlyIncome > 4895\n",
      "           ---- MonthlyIncome, weight = -0.03326273292507953\n",
      "           -- MonthlyIncome <= 6635\n",
      "             ---- MonthlyIncome, weight = -0.003985605303141105\n",
      "             -- MonthlyIncome <= 5330\n",
      "               ---- weight = 0.06944863506108827\n",
      "             -- MonthlyIncome > 5330\n",
      "               ---- weight = -0.03133163724807211\n",
      "           -- MonthlyIncome > 6635\n",
      "             ---- weight = 1.5169470026280591\n",
      "   -- MonthlyIncome > 6643\n",
      "     ---- weight = -1.7805868109955847\n"
     ]
    }
   ],
   "source": [
    "@time booster1 = xgboost(df, target, features; lambda = lambda, gamma = gamma)"
   ]
  },
  {
   "cell_type": "code",
   "execution_count": 47,
   "metadata": {},
   "outputs": [
    {
     "name": "stdout",
     "output_type": "stream",
     "text": [
      "  0.282032 seconds (1.12 k allocations: 17.887 MiB, 4.01% gc time)\n",
      "  0.072555 seconds (1.64 M allocations: 45.711 MiB, 20.47% gc time)\n"
     ]
    },
    {
     "data": {
      "text/plain": [
       "-0.012080907640135585"
      ]
     },
     "execution_count": 47,
     "metadata": {},
     "output_type": "execute_result"
    }
   ],
   "source": [
    "@time scoretree(df, booster1, :new_weight);\n",
    "@time (gini2, cudata) = gini(-df[:new_weight], df[target]; plotauc = true);\n",
    "gini2"
   ]
  },
  {
   "cell_type": "code",
   "execution_count": null,
   "metadata": {},
   "outputs": [],
   "source": [
    "plot(vcat(0,cudata[1]),vcat(0,cudata[2]))\n",
    "plot!([0,1],[0,1])"
   ]
  },
  {
   "cell_type": "code",
   "execution_count": 61,
   "metadata": {},
   "outputs": [
    {
     "data": {
      "text/html": [
       "<table class=\"data-frame\"><thead><tr><th></th><th>new_weight</th><th>x1</th><th>pd</th></tr></thead><tbody><tr><th>1</th><td>-3.43693</td><td>(0.0278054, 2014)</td><td>0.0311611</td></tr><tr><th>2</th><td>-3.31498</td><td>(0.0294118, 272)</td><td>0.0350609</td></tr><tr><th>3</th><td>-3.24922</td><td>(0.0366446, 2265)</td><td>0.0373551</td></tr><tr><th>4</th><td>-3.20623</td><td>(0.0275, 400)</td><td>0.0389318</td></tr><tr><th>5</th><td>-3.00798</td><td>(0.0468986, 2644)</td><td>0.0470668</td></tr><tr><th>6</th><td>-2.85736</td><td>(0.0543001, 9558)</td><td>0.0543021</td></tr><tr><th>7</th><td>-2.72687</td><td>(0.057947, 604)</td><td>0.0614061</td></tr><tr><th>8</th><td>-2.72041</td><td>(0.0601504, 1064)</td><td>0.0617796</td></tr><tr><th>9</th><td>-2.63892</td><td>(0.0666463, 16400)</td><td>0.0666751</td></tr><tr><th>10</th><td>-2.57647</td><td>(0.0703829, 5328)</td><td>0.070668</td></tr><tr><th>11</th><td>-2.53814</td><td>(0.0731014, 7387)</td><td>0.0732272</td></tr><tr><th>12</th><td>-2.4274</td><td>(0.0762943, 367)</td><td>0.0811068</td></tr><tr><th>13</th><td>-2.40477</td><td>(0.0828089, 22884)</td><td>0.0828099</td></tr><tr><th>14</th><td>-2.37832</td><td>(0.0845357, 4921)</td><td>0.0848412</td></tr><tr><th>15</th><td>-2.33029</td><td>(0.0883763, 6676)</td><td>0.0886451</td></tr><tr><th>16</th><td>-2.19701</td><td>(0.0999452, 10946)</td><td>0.100019</td></tr><tr><th>17</th><td>-1.8937</td><td>(0.119403, 67)</td><td>0.130823</td></tr><tr><th>18</th><td>-1.78059</td><td>(0.0548216, 56164)</td><td>0.144231</td></tr><tr><th>19</th><td>-1.08666</td><td>(0.205128, 39)</td><td>0.252248</td></tr></tbody></table>"
      ],
      "text/plain": [
       "19×3 DataFrame\n",
       "│ Row │ new_weight │ x1                 │ pd        │\n",
       "├─────┼────────────┼────────────────────┼───────────┤\n",
       "│ 1   │ -3.43693   │ (0.0278054, 2014)  │ 0.0311611 │\n",
       "│ 2   │ -3.31498   │ (0.0294118, 272)   │ 0.0350609 │\n",
       "│ 3   │ -3.24922   │ (0.0366446, 2265)  │ 0.0373551 │\n",
       "│ 4   │ -3.20623   │ (0.0275, 400)      │ 0.0389318 │\n",
       "│ 5   │ -3.00798   │ (0.0468986, 2644)  │ 0.0470668 │\n",
       "│ 6   │ -2.85736   │ (0.0543001, 9558)  │ 0.0543021 │\n",
       "│ 7   │ -2.72687   │ (0.057947, 604)    │ 0.0614061 │\n",
       "│ 8   │ -2.72041   │ (0.0601504, 1064)  │ 0.0617796 │\n",
       "│ 9   │ -2.63892   │ (0.0666463, 16400) │ 0.0666751 │\n",
       "│ 10  │ -2.57647   │ (0.0703829, 5328)  │ 0.070668  │\n",
       "│ 11  │ -2.53814   │ (0.0731014, 7387)  │ 0.0732272 │\n",
       "│ 12  │ -2.4274    │ (0.0762943, 367)   │ 0.0811068 │\n",
       "│ 13  │ -2.40477   │ (0.0828089, 22884) │ 0.0828099 │\n",
       "│ 14  │ -2.37832   │ (0.0845357, 4921)  │ 0.0848412 │\n",
       "│ 15  │ -2.33029   │ (0.0883763, 6676)  │ 0.0886451 │\n",
       "│ 16  │ -2.19701   │ (0.0999452, 10946) │ 0.100019  │\n",
       "│ 17  │ -1.8937    │ (0.119403, 67)     │ 0.130823  │\n",
       "│ 18  │ -1.78059   │ (0.0548216, 56164) │ 0.144231  │\n",
       "│ 19  │ -1.08666   │ (0.205128, 39)     │ 0.252248  │"
      ]
     },
     "execution_count": 61,
     "metadata": {},
     "output_type": "execute_result"
    }
   ],
   "source": [
    "ok=sort(by(df, :new_weight, df1->(sum(df1[target])/size(df1)[1], size(df1)[1])), :new_weight)\n",
    "ok\n",
    "#plot(ok[:,1], ok[:,2])\n",
    "ok[:pd] = softmax.(ok[:new_weight])\n",
    "ok"
   ]
  },
  {
   "cell_type": "code",
   "execution_count": 83,
   "metadata": {},
   "outputs": [
    {
     "data": {
      "text/plain": [
       "Dict{Float64,Int64} with 26 entries:\n",
       "  -0.357471 => 759\n",
       "  -0.983923 => 70\n",
       "  -0.939205 => 1771\n",
       "  0.229765  => 14\n",
       "  -1.42912  => 2686\n",
       "  0.444767  => 10\n",
       "  -2.78084  => 16332\n",
       "  -0.496375 => 3721\n",
       "  -2.14926  => 397\n",
       "  -1.17068  => 1022\n",
       "  -0.733029 => 635\n",
       "  -1.83103  => 2224\n",
       "  -2.6425   => 109686\n",
       "  -1.21848  => 413\n",
       "  0.789742  => 70\n",
       "  0.0429011 => 108\n",
       "  -1.37362  => 107\n",
       "  -2.16418  => 1343\n",
       "  -1.80417  => 173\n",
       "  -2.67784  => 5900\n",
       "  -1.72619  => 1233\n",
       "  -1.41227  => 389\n",
       "  0.0671791 => 48\n",
       "  -0.724351 => 30\n",
       "  -0.106245 => 754\n",
       "  -0.271718 => 105"
      ]
     },
     "execution_count": 83,
     "metadata": {},
     "output_type": "execute_result"
    }
   ],
   "source": [
    "countmap(df[:new_weight])"
   ]
  },
  {
   "cell_type": "code",
   "execution_count": null,
   "metadata": {
    "scrolled": true
   },
   "outputs": [],
   "source": [
    "@time booster2 = xgboost(df, target, features; prev_w = :new_weight, lambda = lambda, gamma = gamma)"
   ]
  },
  {
   "cell_type": "code",
   "execution_count": null,
   "metadata": {},
   "outputs": [],
   "source": [
    "@time scoretree(df, booster2, :new_weight2);"
   ]
  },
  {
   "cell_type": "code",
   "execution_count": null,
   "metadata": {},
   "outputs": [],
   "source": [
    "(gini2, cudata) = gini(-(df[:new_weight2].+df[:new_weight]), df[target]; plotauc = true);\n",
    "gini2"
   ]
  },
  {
   "cell_type": "code",
   "execution_count": null,
   "metadata": {},
   "outputs": [],
   "source": [
    "plot(vcat(0,cudata[1]),vcat(0,cudata[2]))\n",
    "plot!([0,1],[0,1])"
   ]
  },
  {
   "cell_type": "code",
   "execution_count": 88,
   "metadata": {},
   "outputs": [
    {
     "ename": "KeyError",
     "evalue": "KeyError: key :new_weight2 not found",
     "output_type": "error",
     "traceback": [
      "KeyError: key :new_weight2 not found",
      "",
      "Stacktrace:",
      " [1] getindex at ./dict.jl:478 [inlined]",
      " [2] getindex at /mnt/juliabox/.julia/packages/DataFrames/utxEh/src/other/index.jl:123 [inlined]",
      " [3] getindex(::DataFrame, ::Symbol) at /mnt/juliabox/.julia/packages/DataFrames/utxEh/src/dataframe/dataframe.jl:258",
      " [4] top-level scope at In[88]:1"
     ]
    }
   ],
   "source": [
    "df[:new_weight_all] = df[:new_weight2] .+ df[:new_weight]\n",
    "countmap(df[:new_weight_all])"
   ]
  },
  {
   "cell_type": "code",
   "execution_count": null,
   "metadata": {},
   "outputs": [],
   "source": [
    "@time booster3 = xgboost(df, target, features; prev_w = :new_weight_all, lambda = 1, gamma = gamma)\n",
    "@time scoretree(df, booster3, :new_weight3);"
   ]
  },
  {
   "cell_type": "code",
   "execution_count": null,
   "metadata": {},
   "outputs": [],
   "source": [
    "(gini3, cudata) = gini(-(df[:new_weight3].+df[:new_weight_all]), df[target]; plotauc = true);\n",
    "gini3"
   ]
  },
  {
   "cell_type": "code",
   "execution_count": null,
   "metadata": {},
   "outputs": [],
   "source": [
    "plot(vcat(0,cudata[1]),vcat(0,cudata[2]))\n",
    "plot!([0,1],[0,1])"
   ]
  },
  {
   "cell_type": "code",
   "execution_count": null,
   "metadata": {},
   "outputs": [],
   "source": [
    "df[:new_weight_all] .= df[:new_weight_all] .+ df[:new_weight3]\n",
    "countmap(df[:new_weight_all])"
   ]
  },
  {
   "cell_type": "code",
   "execution_count": null,
   "metadata": {},
   "outputs": [],
   "source": [
    "@time booster4 = xgboost(df, target, features; prev_w = :new_weight_all, lambda = 1, gamma = gamma)\n",
    "@time scoretree(df, booster4, :new_weight4);\n",
    "(gini4, cudata) = gini(-(df[:new_weight4].+df[:new_weight_all]), df[target]; plotauc = true);\n",
    "print(gini4)\n",
    "plot(vcat(0,cudata[1]),vcat(0,cudata[2]))\n",
    "plot!([0,1],[0,1])"
   ]
  },
  {
   "cell_type": "code",
   "execution_count": null,
   "metadata": {},
   "outputs": [],
   "source": [
    "df[:new_weight_all] .= df[:new_weight_all] .+ df[:new_weight4]\n",
    "countmap(df[:new_weight_all])"
   ]
  },
  {
   "cell_type": "code",
   "execution_count": null,
   "metadata": {},
   "outputs": [],
   "source": [
    "@time booster5 = xgboost(df, target, features; prev_w = :new_weight_all, lambda = 1, gamma = gamma)\n",
    "@time scoretree(df, booster5, :new_weight5);\n",
    "(gini4, cudata) = gini(-(df[:new_weight5].+df[:new_weight_all]), df[target]; plotauc = true);\n",
    "print(gini4)\n",
    "plot(vcat(0,cudata[1]),vcat(0,cudata[2]))\n",
    "plot!([0,1],[0,1])"
   ]
  }
 ],
 "metadata": {
  "kernelspec": {
   "display_name": "Julia 1.0.3",
   "language": "julia",
   "name": "julia-1.0"
  },
  "language_info": {
   "file_extension": ".jl",
   "mimetype": "application/julia",
   "name": "julia",
   "version": "1.0.3"
  }
 },
 "nbformat": 4,
 "nbformat_minor": 2
}
